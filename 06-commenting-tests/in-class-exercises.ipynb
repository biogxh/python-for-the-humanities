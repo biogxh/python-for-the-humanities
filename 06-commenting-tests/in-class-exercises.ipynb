{
 "cells": [
  {
   "cell_type": "markdown",
   "metadata": {},
   "source": [
    "# A little more Python\n",
    "\n",
    "You made it half way through the semester! Let's practice Python coding a little before we move on to new topics.\n",
    "\n",
    "Create a new \"Citation\" class that has the following properties:\n",
    "\n",
    "- key\n",
    "- reference type (called *Type* in the csv)\n",
    "- date\n",
    "- authors\n",
    "- title\n",
    "- date added\n",
    "\n",
    "There is a csv file in the same folder as this notebook. For each entry in the csv file, create a citation object.\n",
    "\n",
    "Now, add a method to the citation class that prints a citation in the form: {authors} ({date}), {title}. Added as {reference type} on {date added} with key {key}.\n",
    "\n",
    "Next, write a loop that let's the user enter name and then shows all the publications that contain that name in the author field."
   ]
  },
  {
   "cell_type": "code",
   "execution_count": null,
   "metadata": {},
   "outputs": [],
   "source": [
    "# your code"
   ]
  },
  {
   "cell_type": "markdown",
   "metadata": {},
   "source": [
    "# GitHub pages\n",
    "\n",
    "Create a new repository on GitHub and create a README.md file. In the settings, enable GitHub pages. Choose a layout and add some text to the first page (name the file index.md to be found by GitHub pages)."
   ]
  },
  {
   "cell_type": "code",
   "execution_count": null,
   "metadata": {},
   "outputs": [],
   "source": [
    "# nothing to do in code here"
   ]
  },
  {
   "cell_type": "markdown",
   "metadata": {},
   "source": [
    "# Unit testing\n",
    "\n",
    "Let's test the methods of the counter class from last week."
   ]
  },
  {
   "cell_type": "code",
   "execution_count": null,
   "metadata": {},
   "outputs": [],
   "source": [
    "class Counter:\n",
    "    \n",
    "    def __init__(self, name):\n",
    "        self.name = name\n",
    "        self.counter = 0\n",
    "    \n",
    "    def increment(self):\n",
    "        self.counter = self.counter + 1\n",
    "        \n",
    "    def add_other_counter(self, another_counter):\n",
    "        self.counter = self.counter + another_counter.counter"
   ]
  },
  {
   "cell_type": "code",
   "execution_count": null,
   "metadata": {},
   "outputs": [],
   "source": [
    "import unittest\n",
    "\n",
    "class TestCounterMethods(unittest.TestCase):\n",
    "\n",
    "    def test_init(self):\n",
    "        counter = Counter(\"my counter\")\n",
    "        self.assertEqual(counter.name, \"my counter\")\n",
    "        self.assertEqual(counter.counter, 0)\n",
    "\n",
    "    def test_increment(self):\n",
    "        counter = Counter(\"my counter\")\n",
    "        counter.increment()\n",
    "        self.assertEqual(counter.counter, 1)\n",
    "\n",
    "    def test_add_other_counter(self):\n",
    "        # let's implement this\n",
    "        pass\n",
    "\n",
    "unittest.main(argv=[''], verbosity=2, exit=False)"
   ]
  },
  {
   "cell_type": "code",
   "execution_count": null,
   "metadata": {},
   "outputs": [],
   "source": []
  }
 ],
 "metadata": {
  "kernelspec": {
   "display_name": "Python 3",
   "language": "python",
   "name": "python3"
  },
  "language_info": {
   "codemirror_mode": {
    "name": "ipython",
    "version": 3
   },
   "file_extension": ".py",
   "mimetype": "text/x-python",
   "name": "python",
   "nbconvert_exporter": "python",
   "pygments_lexer": "ipython3",
   "version": "3.7.4"
  }
 },
 "nbformat": 4,
 "nbformat_minor": 2
}
