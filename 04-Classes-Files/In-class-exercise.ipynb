{
 "cells": [
  {
   "cell_type": "markdown",
   "metadata": {},
   "source": [
    "# Recursion\n",
    "\n",
    "A recursive function calls itself. For example:"
   ]
  },
  {
   "cell_type": "code",
   "execution_count": null,
   "metadata": {},
   "outputs": [],
   "source": [
    "def print_number(n):\n",
    "    if n < 0:\n",
    "        return\n",
    "    print(n)\n",
    "    print_number(n-1)\n",
    "    print(n)\n",
    "    \n",
    "print_number(10)"
   ]
  },
  {
   "cell_type": "markdown",
   "metadata": {},
   "source": [
    "Let's write a recursive function that calculates the sum of all numbers in a list. The list however does not only contain numbers but lists of numbers and lists of lists of numbers (to an unknown depths), e.g.:\n",
    "```\n",
    "[1, [5, 66], [76, 8], 6, [1, 5, 88, [98, 1]], 5]\n",
    "```"
   ]
  },
  {
   "cell_type": "markdown",
   "metadata": {},
   "source": [
    "# Classes and objects\n",
    "\n",
    "Classes can be used to group properties and functions logically together. The general syntax of a class is:\n",
    "\n",
    "```\n",
    "class MyClass:\n",
    "    def __init__(self): # there can be more parameters here\n",
    "        # optional, initialize something\n",
    "        \n",
    "    # methods for this class\n",
    "```\n",
    "\n",
    "Let's write two classes. One that represents texts and one that represents a collection of texts. The classes should have the following properties:\n",
    "\n",
    "`Text class`\n",
    "\n",
    "- a filepath property where the file is stored\n",
    "- an author property that holds the author of a file\n",
    "- a size property that holds the size of the textfile\n",
    "- a method that loads the text (you do not have to implement this one yet, just print \"Loading\" for now\n",
    "\n",
    "`Collection class`\n",
    "\n",
    "- a texts property that holds all the texts in that collection\n",
    "- a date property that holds the creation date\n",
    "- a creator property that holds the creator of a collection\n",
    "- a calculate size method that calculates the size of the collection based on the individual sizes of each text in the collection"
   ]
  },
  {
   "cell_type": "code",
   "execution_count": null,
   "metadata": {},
   "outputs": [],
   "source": [
    "# your code"
   ]
  },
  {
   "cell_type": "markdown",
   "metadata": {},
   "source": [
    "Use the code from the previous exercise and subclass your text class by creating a new class called `PDFText`. This class should have the following properties:\n",
    "\n",
    "- a variable num_of_pages\n",
    "- a list of pages; each element in the list would be a string that holds the text for that page"
   ]
  },
  {
   "cell_type": "code",
   "execution_count": null,
   "metadata": {},
   "outputs": [],
   "source": [
    "# your code"
   ]
  },
  {
   "cell_type": "markdown",
   "metadata": {},
   "source": [
    "In the new `PDFTex` class, overwrite the method that loads a file. For now just let the method print \"PDF file is being loaded.\""
   ]
  },
  {
   "cell_type": "markdown",
   "metadata": {},
   "source": [
    "# Reading files\n",
    "\n",
    "Let's implement the load method of the `Text` class we've just created. When the method is called, it should read the content of the file specified by the filepath and return it. "
   ]
  },
  {
   "cell_type": "code",
   "execution_count": null,
   "metadata": {},
   "outputs": [],
   "source": [
    "# copy the code here and add the method implementation or add it above"
   ]
  },
  {
   "cell_type": "markdown",
   "metadata": {},
   "source": [
    "# Working with the filesystem\n",
    "\n",
    "Let's use the above `Text` and `Collection` classes. Create a loop that reads all files in a folder and its subfolders and creates a `Text` object for each file. Create a collection that contains all the created `Text` objects."
   ]
  },
  {
   "cell_type": "code",
   "execution_count": null,
   "metadata": {},
   "outputs": [],
   "source": [
    "# your code"
   ]
  },
  {
   "cell_type": "code",
   "execution_count": null,
   "metadata": {},
   "outputs": [],
   "source": []
  }
 ],
 "metadata": {
  "kernelspec": {
   "display_name": "Python 3",
   "language": "python",
   "name": "python3"
  },
  "language_info": {
   "codemirror_mode": {
    "name": "ipython",
    "version": 3
   },
   "file_extension": ".py",
   "mimetype": "text/x-python",
   "name": "python",
   "nbconvert_exporter": "python",
   "pygments_lexer": "ipython3",
   "version": "3.7.4"
  }
 },
 "nbformat": 4,
 "nbformat_minor": 2
}
