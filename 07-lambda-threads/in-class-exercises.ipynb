{
 "cells": [
  {
   "cell_type": "markdown",
   "metadata": {},
   "source": [
    "# Lambda functions\n",
    "\n",
    "Lambda functions are anonymous, short functions. They have the form `lambda <parameters>:<expression>`. For example:\n",
    "\n",
    "`lambda a, b: a+b`\n",
    " \n",
    "You can put them into variables or pass them as parameters. `sort`, for example, takes a lambda function to specify, which value should be used for sorting:"
   ]
  },
  {
   "cell_type": "code",
   "execution_count": null,
   "metadata": {},
   "outputs": [],
   "source": [
    "my_list = [[3, 2, 2], [5, 6, 7], [4, 6, 1]]\n",
    "print(my_list)\n",
    "my_list.sort(key=lambda l: l[2])\n",
    "print(my_list)"
   ]
  },
  {
   "cell_type": "markdown",
   "metadata": {},
   "source": [
    "## Exercise\n",
    "\n",
    "For the below code, sort the list of cats by their name using a lambda function."
   ]
  },
  {
   "cell_type": "code",
   "execution_count": 25,
   "metadata": {},
   "outputs": [],
   "source": [
    "class Cat:\n",
    "    \n",
    "    def __init__(self, name):\n",
    "        self.name = name\n",
    "        \n",
    "cats = [Cat(\"Kitty\"), Cat(\"Peterle\"), Cat(\"Amanda\"), Cat(\"Olaf\")]"
   ]
  },
  {
   "cell_type": "code",
   "execution_count": 26,
   "metadata": {},
   "outputs": [],
   "source": [
    "# your code"
   ]
  },
  {
   "cell_type": "markdown",
   "metadata": {},
   "source": [
    "Now, try using the `map` function to create a dictionary that has as keys the names of the owners and as values the names of the cats."
   ]
  },
  {
   "cell_type": "code",
   "execution_count": 27,
   "metadata": {},
   "outputs": [],
   "source": [
    "class Owner:\n",
    "    \n",
    "    def __init__(self, name):\n",
    "        self.name = name\n",
    "        \n",
    "owners = [Owner(\"Amy\"), Owner(\"Penny\"), Owner(\"Lennard\")]"
   ]
  },
  {
   "cell_type": "code",
   "execution_count": 30,
   "metadata": {},
   "outputs": [],
   "source": [
    "# your code"
   ]
  },
  {
   "cell_type": "markdown",
   "metadata": {},
   "source": [
    "## Functions that accept functions/lambdas\n",
    "\n",
    "Write a function (`rename_and_assign`) that accepts a list of cats, a list of owners, and a function (`modify_name`) that modifies a string (e.g. by uppercasing or lowercasing it, or by reversing it). Your `rename_and_assign` function should first use the `modify_name` function to modify all cats' names and then return a list of tuples (or a dictionary) that assigns each cat to an owner."
   ]
  },
  {
   "cell_type": "code",
   "execution_count": 37,
   "metadata": {},
   "outputs": [],
   "source": [
    "# your code"
   ]
  },
  {
   "cell_type": "markdown",
   "metadata": {},
   "source": [
    "# Threads\n",
    "\n",
    "Let's create two threads. One thread calculates the sum of squares of all numbers in a given range, the other thread prints \"Waiting...\" 5 times with 1 second of wait time in between. "
   ]
  },
  {
   "cell_type": "code",
   "execution_count": null,
   "metadata": {},
   "outputs": [],
   "source": [
    "# your code"
   ]
  },
  {
   "cell_type": "markdown",
   "metadata": {},
   "source": [
    "## Race Conditions\n",
    "\n",
    "Threads can be tricky as you can see in the following example."
   ]
  },
  {
   "cell_type": "code",
   "execution_count": 46,
   "metadata": {},
   "outputs": [
    {
     "name": "stdout",
     "output_type": "stream",
     "text": [
      "\n",
      "Main program.\n",
      "My thread gets 0My other thread gets 0\n",
      "Main is done\n",
      "\n",
      "My other thread set it to 1\n",
      "\n",
      "My thread set it to 5\n"
     ]
    }
   ],
   "source": [
    "import threading\n",
    "\n",
    "my_global = 0\n",
    "\n",
    "def my_thread_function():\n",
    "    global my_global \n",
    "    print(\"My thread gets \" + str(my_global))\n",
    "    result = (my_global+1)*2 # this would be some complicated calculation\n",
    "    my_global += result\n",
    "    print(\"My thread set it to \" + str(my_global))\n",
    "\n",
    "    \n",
    "def my_other_thread_function():\n",
    "    global my_global \n",
    "    print(\"My other thread gets \" + str(my_global))\n",
    "    my_global += 1\n",
    "    print(\"My other thread set it to \" + str(my_global))\n",
    "\n",
    "x = threading.Thread(target=my_thread_function)\n",
    "y = threading.Thread(target=my_other_thread_function)\n",
    "print(\"\\nMain program.\")\n",
    "x.start()\n",
    "y.start()\n",
    "print(\"\\nMain is done\")"
   ]
  },
  {
   "cell_type": "code",
   "execution_count": null,
   "metadata": {},
   "outputs": [],
   "source": []
  }
 ],
 "metadata": {
  "kernelspec": {
   "display_name": "Python 3",
   "language": "python",
   "name": "python3"
  },
  "language_info": {
   "codemirror_mode": {
    "name": "ipython",
    "version": 3
   },
   "file_extension": ".py",
   "mimetype": "text/x-python",
   "name": "python",
   "nbconvert_exporter": "python",
   "pygments_lexer": "ipython3",
   "version": "3.7.4"
  }
 },
 "nbformat": 4,
 "nbformat_minor": 2
}
