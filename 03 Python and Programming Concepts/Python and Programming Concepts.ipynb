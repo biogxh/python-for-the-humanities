{
 "cells": [
  {
   "cell_type": "markdown",
   "metadata": {},
   "source": [
    "# Mutable and immutable objects\n",
    "\n",
    "Mutable objects can be changed \"in place\", no new assignment is necessary. Take a look at the following code snippet and try to understand what's happening. Lists are mutable, while strings are not."
   ]
  },
  {
   "cell_type": "code",
   "execution_count": 3,
   "metadata": {},
   "outputs": [
    {
     "name": "stdout",
     "output_type": "stream",
     "text": [
      "['hello', 'world', 'test']\n",
      "Hello World!\n"
     ]
    }
   ],
   "source": [
    "def my_func(my_list, my_str):\n",
    "    my_list.append(\"test\")\n",
    "    my_str.upper()\n",
    "    \n",
    "list1 = [\"hello\", \"world\"]\n",
    "str1 = \"Hello World!\"\n",
    "\n",
    "my_func(list1, str1)\n",
    "print(list1)\n",
    "print(str1)"
   ]
  },
  {
   "cell_type": "markdown",
   "metadata": {},
   "source": [
    "# Object references and values\n",
    "\n",
    "The `is` operator compares if two objects are the same object. The `==` operator compares if their values are the same. You can use the `id` function to find the unique identifier of an object."
   ]
  },
  {
   "cell_type": "code",
   "execution_count": 4,
   "metadata": {},
   "outputs": [
    {
     "name": "stdout",
     "output_type": "stream",
     "text": [
      "False\n",
      "True\n",
      "True\n",
      "4518122752\n",
      "4518122272\n",
      "4518122752\n"
     ]
    }
   ],
   "source": [
    "a = [1, 2]\n",
    "b = [1, 2]\n",
    "c = a\n",
    "print(a is b)\n",
    "print(a == b)\n",
    "print(a is c)\n",
    "\n",
    "print(id(a))\n",
    "print(id(b))\n",
    "print(id(c))\n"
   ]
  },
  {
   "cell_type": "markdown",
   "metadata": {},
   "source": [
    "# Functions and object references\n",
    "\n",
    "Given what you know know about object references and how they are passed into functions, what do you think will the following code print? Think first before you run it!"
   ]
  },
  {
   "cell_type": "code",
   "execution_count": null,
   "metadata": {},
   "outputs": [],
   "source": [
    "a = 1\n",
    "\n",
    "def test(a):\n",
    "    a = 3\n",
    "    \n",
    "print(a)\n",
    "test(a)\n",
    "print(a)"
   ]
  },
  {
   "attachments": {},
   "cell_type": "markdown",
   "metadata": {},
   "source": [
    "# Exceptions\n",
    "\n",
    "The syntax for exceptions is:\n",
    "```\n",
    "try:\n",
    "    # something that might generate an exception\n",
    "except <TypeOfException>:\n",
    "    # do something if a specific exception is thrown\n",
    "except <TypeOfException> as <variable_name>:\n",
    "    # do something if this happens and use the exception info\n",
    "except:\n",
    "    # catch all clause\n",
    "```\n",
    "\n",
    "Let's try this. Write some code that asks the user for two inputs. If the user inputs two numbers, the program should calculate their product. Otherwise, let the user know that they didn't enter two numbers."
   ]
  },
  {
   "cell_type": "code",
   "execution_count": null,
   "metadata": {},
   "outputs": [],
   "source": [
    "# your code"
   ]
  },
  {
   "cell_type": "markdown",
   "metadata": {},
   "source": [
    "# Recursion\n",
    "\n",
    "A recursive function calls itself. For example:\n",
    "```\n",
    "def print_numbers_recursive(n):\n",
    "    if n < 0:\n",
    "        return\n",
    "    print(n)\n",
    "    print_numbers_recursive(n-1)\n",
    "    \n",
    "print_numbers_recursive(10)\n",
    "```\n",
    "\n",
    "Let's write a recursive function that prints all the squares of a list of numbers. The list should be an actual list (not `range(a, b)`). \n",
    "\n",
    "Note 1: you can use the method `pop(index)` of lists to remove an element from a list by it's index, e.g. `list1.pop(1)` deletes the second element in the list `list1`.\n",
    "\n",
    "Note 2: first, you should be thinking about what your exit statement is (when should the recursion end) and then what you need to do to get there. "
   ]
  },
  {
   "cell_type": "code",
   "execution_count": null,
   "metadata": {},
   "outputs": [],
   "source": [
    "# your code"
   ]
  }
 ],
 "metadata": {
  "kernelspec": {
   "display_name": "Python 3",
   "language": "python",
   "name": "python3"
  },
  "language_info": {
   "codemirror_mode": {
    "name": "ipython",
    "version": 3
   },
   "file_extension": ".py",
   "mimetype": "text/x-python",
   "name": "python",
   "nbconvert_exporter": "python",
   "pygments_lexer": "ipython3",
   "version": "3.7.4"
  }
 },
 "nbformat": 4,
 "nbformat_minor": 2
}
