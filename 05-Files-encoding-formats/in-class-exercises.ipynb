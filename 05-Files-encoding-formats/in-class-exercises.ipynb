{
 "cells": [
  {
   "cell_type": "markdown",
   "metadata": {},
   "source": [
    "# Reading files\n",
    "\n",
    "Let's implement the load method of the `Text` class we've created last week. When the method is called, it should read the content of the file specified by the filepath and return it. "
   ]
  },
  {
   "cell_type": "code",
   "execution_count": null,
   "metadata": {},
   "outputs": [],
   "source": [
    "class Text:\n",
    "    def __init__(self, filepath, author, size=0):\n",
    "        self.filepath = filepath\n",
    "        self.author = author\n",
    "        self.size = size\n",
    "        \n",
    "    def load_text(self):\n",
    "        print(\"Loading\")\n",
    "    \n",
    "class Collection:\n",
    "    def __init__(self, creation_date, creator):\n",
    "        self.creation_date = creation_date\n",
    "        self.creator = creator\n",
    "        self.texts = []\n",
    "        \n",
    "    def calculate_size(self):\n",
    "        return sum([t.size for t in self.texts])"
   ]
  },
  {
   "cell_type": "markdown",
   "metadata": {},
   "source": [
    "# Working with the filesystem\n",
    "\n",
    "Let's use the above `Text` and `Collection` classes. Create a loop that reads all files in a folder and its subfolders and creates a `Text` object for each file. Create a collection that contains all the created `Text` objects."
   ]
  },
  {
   "cell_type": "code",
   "execution_count": null,
   "metadata": {},
   "outputs": [],
   "source": [
    "# your code"
   ]
  },
  {
   "cell_type": "markdown",
   "metadata": {},
   "source": [
    "# Date and time\n",
    "\n",
    "Let's use the time and datetime modules. \n",
    "\n",
    "1. Adding to the text and collection exercise above, use the datetime module to set the `creation_date` property of a collection to the current date and time when a collection is created. \n",
    "\n",
    "2. Calculate the time in seconds that it takes in the exercise above to load all files in a folder and its subfolders."
   ]
  },
  {
   "cell_type": "code",
   "execution_count": null,
   "metadata": {},
   "outputs": [],
   "source": [
    "# your code"
   ]
  },
  {
   "cell_type": "markdown",
   "metadata": {},
   "source": [
    "# JSON\n",
    "\n",
    "In json, you know it's a string if it is surrounded by quotation marks (e.g. `\"Julia\"`). You know it's a list if it's surrounded by brackets (e.g. `[\"hello\", \"world\"]`). You know it's an object if it is surrounded by curly brackets (e.g. `{ \"name\": \"julia\", \"employer\": \"ASU\" }`).\n",
    "\n",
    "Python provides a `json` module to work with data in JSON format. Just `import json` and you are ready to go!"
   ]
  },
  {
   "cell_type": "code",
   "execution_count": 9,
   "metadata": {},
   "outputs": [
    {
     "name": "stdout",
     "output_type": "stream",
     "text": [
      "Julia\n",
      "Damerow\n",
      "ASU\n",
      "Tempe\n"
     ]
    }
   ],
   "source": [
    "import json\n",
    "\n",
    "# load some json (this could come from a file)\n",
    "data = json.loads('{ \"firstName\" : \"Julia\", \"lastName\" : \"Damerow\", \"employer\" : { \"name\" : \"ASU\", \"city\": \"Tempe\" }}')\n",
    "\n",
    "# now you can access the data\n",
    "print(data[\"firstName\"])\n",
    "print(data[\"lastName\"])\n",
    "employer = data[\"employer\"]\n",
    "print(employer[\"name\"])\n",
    "print(employer[\"city\"])"
   ]
  },
  {
   "cell_type": "markdown",
   "metadata": {},
   "source": [
    "## Using Json \n",
    "\n",
    "Let's use JSON to save some data. Use the code from before (where you read all the files in a directory and created a collection of files). Add the following feature: after all files have been read and the collection has been created, ask the user if they want to save that information. If the answer is yes, create some json that contains a list of objects, one object for each text in your collection. Each object will have a filepath property (containing the filepath stored in the corresponding text object) and an author property (containing the value of the author property of the text object). Write the json to a file."
   ]
  },
  {
   "cell_type": "code",
   "execution_count": null,
   "metadata": {},
   "outputs": [],
   "source": [
    "# your code"
   ]
  },
  {
   "cell_type": "code",
   "execution_count": null,
   "metadata": {},
   "outputs": [],
   "source": []
  }
 ],
 "metadata": {
  "kernelspec": {
   "display_name": "Python 3",
   "language": "python",
   "name": "python3"
  },
  "language_info": {
   "codemirror_mode": {
    "name": "ipython",
    "version": 3
   },
   "file_extension": ".py",
   "mimetype": "text/x-python",
   "name": "python",
   "nbconvert_exporter": "python",
   "pygments_lexer": "ipython3",
   "version": "3.7.4"
  }
 },
 "nbformat": 4,
 "nbformat_minor": 2
}
